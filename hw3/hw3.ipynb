{
 "cells": [
  {
   "cell_type": "code",
   "execution_count": 1,
   "id": "0768203d",
   "metadata": {},
   "outputs": [],
   "source": [
    "import json\n",
    "import jieba\n",
    "from sklearn.feature_extraction.text import TfidfVectorizer\n",
    "from sklearn.neighbors import KNeighborsClassifier\n",
    "from sklearn.svm import SVC\n",
    "from sklearn.model_selection import train_test_split\n",
    "\n",
    "# 讀取json文件\n",
    "with open('C:/nlp2023/hw2/movies_data_with_page_ranks.json', 'r', encoding='utf-8') as f:\n",
    "    data = json.load(f)\n",
    "\n",
    "# 分詞處理\n",
    "jieba.setLogLevel(20)  # 防止jieba輸出警告信息\n",
    "for movie in data:\n",
    "    movie['intro'] = ' '.join(jieba.cut(movie['intro'], cut_all=False))\n",
    "\n",
    "# 提取特徵向量\n",
    "tfidf = TfidfVectorizer()\n",
    "X = tfidf.fit_transform([movie['intro'] for movie in data])\n",
    "y = [movie['label'][0] if movie['label'] else 'NA' for movie in data]\n",
    "\n",
    "# 劃分訓練集和測試集\n",
    "test_size = 500/len(data)\n",
    "X_train, X_test, y_train, y_test = train_test_split(X, y, test_size=test_size, random_state=14)"
   ]
  },
  {
   "cell_type": "code",
   "execution_count": 6,
   "id": "09538f32",
   "metadata": {},
   "outputs": [
    {
     "name": "stdout",
     "output_type": "stream",
     "text": [
      "KNN： 0.456\n"
     ]
    },
    {
     "name": "stderr",
     "output_type": "stream",
     "text": [
      "C:\\Users\\iwin4\\anaconda3\\lib\\site-packages\\sklearn\\neighbors\\_classification.py:228: FutureWarning: Unlike other reduction functions (e.g. `skew`, `kurtosis`), the default behavior of `mode` typically preserves the axis it acts along. In SciPy 1.11.0, this behavior will change: the default value of `keepdims` will become False, the `axis` over which the statistic is taken will be eliminated, and the value None will no longer be accepted. Set `keepdims` to True or False to avoid this warning.\n",
      "  mode, _ = stats.mode(_y[neigh_ind, k], axis=1)\n"
     ]
    }
   ],
   "source": [
    "knn = KNeighborsClassifier(n_neighbors=30)\n",
    "knn.fit(X_train, y_train)\n",
    "y_pred_knn = knn.predict(X_test)\n",
    "precision_knn = sum(y_pred_knn[i] == y_test[i] for i in range(len(y_test))) / len(y_test)\n",
    "print('KNN：', precision_knn)"
   ]
  },
  {
   "cell_type": "code",
   "execution_count": 5,
   "id": "f42671d0",
   "metadata": {},
   "outputs": [
    {
     "name": "stdout",
     "output_type": "stream",
     "text": [
      "SVM： 0.508\n"
     ]
    }
   ],
   "source": [
    "svm = SVC(C=3.0)\n",
    "svm.fit(X_train, y_train)\n",
    "y_pred_svm = svm.predict(X_test)\n",
    "precision_svm = sum(y_pred_svm[i] == y_test[i] for i in range(len(y_test))) / len(y_test)\n",
    "print('SVM：', precision_svm)"
   ]
  },
  {
   "cell_type": "code",
   "execution_count": null,
   "id": "2d354a5e",
   "metadata": {},
   "outputs": [],
   "source": []
  }
 ],
 "metadata": {
  "kernelspec": {
   "display_name": "Python 3 (ipykernel)",
   "language": "python",
   "name": "python3"
  },
  "language_info": {
   "codemirror_mode": {
    "name": "ipython",
    "version": 3
   },
   "file_extension": ".py",
   "mimetype": "text/x-python",
   "name": "python",
   "nbconvert_exporter": "python",
   "pygments_lexer": "ipython3",
   "version": "3.9.7"
  }
 },
 "nbformat": 4,
 "nbformat_minor": 5
}
